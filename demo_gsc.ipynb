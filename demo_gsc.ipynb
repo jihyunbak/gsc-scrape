{
 "cells": [
  {
   "cell_type": "markdown",
   "metadata": {},
   "source": [
    "# gsc-scrape: example usage"
   ]
  },
  {
   "cell_type": "markdown",
   "metadata": {},
   "source": [
    "**NOTE**: `target_url` is intentionally left blank. You should already know what it is."
   ]
  },
  {
   "cell_type": "code",
   "execution_count": 1,
   "metadata": {},
   "outputs": [],
   "source": [
    "from gscscr.odor_data_coll import OdorDataCollector\n",
    "from gscscr import utils\n",
    "\n",
    "config = {\n",
    "    'target_url': '[URL_STRING]',  # target webpage\n",
    "    'file_prefix': 'gsc_', # prefix for the list files only\n",
    "    'out_dir': '_test/', # local output path\n",
    "    'talkative': True\n",
    "    }"
   ]
  },
  {
   "cell_type": "markdown",
   "metadata": {},
   "source": [
    "## demo for a specific list\n",
    "\n",
    "NOTE: `test_run` is a little safety pin here. First test with the option turned on (set to True, as provided). You can then turn it off (set to False) for a full run."
   ]
  },
  {
   "cell_type": "code",
   "execution_count": 2,
   "metadata": {},
   "outputs": [],
   "source": [
    "list_num = 1\n",
    "\n",
    "# create a data collector for this list\n",
    "test_set = OdorDataCollector(list_num=list_num, **config)"
   ]
  },
  {
   "cell_type": "code",
   "execution_count": 3,
   "metadata": {},
   "outputs": [
    {
     "name": "stdout",
     "output_type": "stream",
     "text": [
      "CAS Number Listing : Starting with 50-00-0 to 123-99-9\n",
      "file saved to: _test/gsc_list1.csv\n"
     ]
    }
   ],
   "source": [
    "# you can just retrieve the list of molecules from the database\n",
    "_ = test_set.get_list_db()"
   ]
  },
  {
   "cell_type": "code",
   "execution_count": 4,
   "metadata": {},
   "outputs": [
    {
     "name": "stdout",
     "output_type": "stream",
     "text": [
      "file already exists: _test/gsc_list1.csv\n",
      "running through all 1728 molecules in the list ...\n",
      "formaldehyde\n",
      "time for webpage retrieval: 0.6137678623199463\n",
      "Saved to: _test/list1/list1_mol0_rw1247381.txt\n",
      "stopped by test_run option\n"
     ]
    }
   ],
   "source": [
    "# and/or go through all molecules in the list\n",
    "# (turn off test_run to run through all molecules)\n",
    "test_set.get_odor_info_from_list(test_run=True)"
   ]
  },
  {
   "cell_type": "code",
   "execution_count": 5,
   "metadata": {},
   "outputs": [
    {
     "name": "stdout",
     "output_type": "stream",
     "text": [
      "CAS Number Listing : Starting with 50-00-0 to 123-99-9\n",
      "file saved to: _test/gsc_list1_full.csv\n"
     ]
    }
   ],
   "source": [
    "# optionally, extract a fuller version of the list for further reference\n",
    "_ = test_set.get_list_db(full_list=True)"
   ]
  },
  {
   "cell_type": "markdown",
   "metadata": {},
   "source": [
    "## loop over all lists\n",
    "\n",
    "Now the actual work. A 5x wait time (after scraping from one page, wait for 5x the time spent for scraping that page) is already implemented, but always try to be gentle to the target server...\n",
    "\n",
    "Again `test_run` is our safety pin. Turn it off when you are ready."
   ]
  },
  {
   "cell_type": "code",
   "execution_count": 7,
   "metadata": {
    "scrolled": true
   },
   "outputs": [
    {
     "name": "stdout",
     "output_type": "stream",
     "text": [
      "file already exists: _test/gsc_list1.csv\n",
      "running through all 1728 molecules in the list ...\n",
      "formaldehyde\n",
      "list file already exists:_test/list1/list1_mol0_rw1247381.txt\n",
      "stopped by test_run option\n",
      "CAS Number Listing : Starting with 124-04-9 to 764-38-5\n",
      "file saved to: _test/gsc_list2.csv\n",
      "running through all 2353 molecules in the list ...\n",
      "adipic acid\n",
      "time for webpage retrieval: 0.7122130393981934\n",
      "Saved to: _test/list2/list2_mol0_rw1001801.txt\n",
      "stopped by test_run option\n",
      "CAS Number Listing : Starting with 764-39-6 to 3623-52-7\n",
      "file saved to: _test/gsc_list3.csv\n",
      "running through all 2867 molecules in the list ...\n",
      "pentenal\n",
      "time for webpage retrieval: 0.7893209457397461\n",
      "Saved to: _test/list3/list3_mol0_rw1457931.txt\n",
      "stopped by test_run option\n",
      "CAS Number Listing : Starting with 3632-91-5 to 7784-26-1\n",
      "file saved to: _test/gsc_list4.csv\n",
      "running through all 2289 molecules in the list ...\n",
      "magnesium gluconate anhydrous\n",
      "time for webpage retrieval: 0.4950840473175049\n",
      "Saved to: _test/list4/list4_mol0_rw1362501.txt\n",
      "stopped by test_run option\n",
      "CAS Number Listing : Starting with 7784-28-3 to 9000-85-5\n",
      "file saved to: _test/gsc_list5.csv\n",
      "running through all 1296 molecules in the list ...\n",
      "aluminum sodium sulfate dodecahydrate\n",
      "time for webpage retrieval: 0.5888838768005371\n",
      "Saved to: _test/list5/list5_mol0_rw1352361.txt\n",
      "stopped by test_run option\n",
      "CAS Number Listing : Starting with 9001-00-7 to 20664-46-4\n",
      "file saved to: _test/gsc_list6.csv\n",
      "running through all 3074 molecules in the list ...\n",
      "bromelain\n",
      "time for webpage retrieval: 0.7046871185302734\n",
      "Saved to: _test/list6/list6_mol0_rw1594371.txt\n",
      "stopped by test_run option\n",
      "CAS Number Listing : Starting with 20665-85-4 to 41816-03-9\n",
      "file saved to: _test/gsc_list7.csv\n",
      "running through all 3319 molecules in the list ...\n",
      "vanillyl isobutyrate\n",
      "time for webpage retrieval: 0.8993370532989502\n",
      "Saved to: _test/list7/list7_mol0_rw1024071.txt\n",
      "stopped by test_run option\n",
      "CAS Number Listing : Starting with 41820-22-8 to 68037-01-4\n",
      "file saved to: _test/gsc_list8.csv\n",
      "running through all 2983 molecules in the list ...\n",
      "allyl thiopropionate\n",
      "time for webpage retrieval: 0.6990687847137451\n",
      "Saved to: _test/list8/list8_mol0_rw1003001.txt\n",
      "stopped by test_run option\n",
      "CAS Number Listing : Starting with 68037-26-3 to 84012-34-0\n",
      "file saved to: _test/gsc_list9.csv\n",
      "running through all 2721 molecules in the list ...\n",
      "styrene-divinyl benzene sulfonated copolymer\n",
      "time for webpage retrieval: 0.5192980766296387\n",
      "Saved to: _test/list9/list9_mol0_rw1611671.txt\n",
      "stopped by test_run option\n",
      "CAS Number Listing : Starting with 84012-35-1 to 90064-35-0\n",
      "file saved to: _test/gsc_list10.csv\n",
      "running through all 3102 molecules in the list ...\n",
      "pinus sylvestris cone extract\n",
      "time for webpage retrieval: 0.5040390491485596\n",
      "Saved to: _test/list10/list10_mol0_ex1091481.txt\n",
      "stopped by test_run option\n",
      "CAS Number Listing : Starting with 90082-13-6 to 132929-71-6\n",
      "file saved to: _test/gsc_list11.csv\n",
      "running through all 4335 molecules in the list ...\n",
      "basil herb oil\n",
      "time for webpage retrieval: 0.507127046585083\n",
      "Saved to: _test/list11/list11_mol0_es1066871.txt\n",
      "stopped by test_run option\n",
      "CAS Number Listing : Starting with 132940-73-9 to 1962956-83-7\n",
      "file saved to: _test/gsc_list12.csv\n",
      "running through all 3426 molecules in the list ...\n",
      "melaleuca leucadendron viridiflora flower/leaf extract\n",
      "time for webpage retrieval: 0.418673038482666\n",
      "Saved to: _test/list12/list12_mol0_ex1616091.txt\n",
      "stopped by test_run option\n"
     ]
    }
   ],
   "source": [
    "# --- loop over all lists\n",
    "list_num_iter = range(1,13) # from list 1 to 12\n",
    "\n",
    "for list_num in list_num_iter:\n",
    "    test_set = OdorDataCollector(list_num=list_num, **config)\n",
    "    test_set.get_odor_info_from_list(test_run=True)"
   ]
  },
  {
   "cell_type": "markdown",
   "metadata": {},
   "source": [
    "## once scraping is done, merge"
   ]
  },
  {
   "cell_type": "code",
   "execution_count": 8,
   "metadata": {},
   "outputs": [],
   "source": [
    "def generate_dataset_summary_files(config, list_num_iter, talkative=True):\n",
    "    allcounts = []\n",
    "    for list_num in list_num_iter:\n",
    "        odc = OdorDataCollector(list_num=list_num, **config)\n",
    "        count_mylist, header = odc.get_list_summary_count() # writes out_list file\n",
    "        allcounts.append(count_mylist)\n",
    "\n",
    "    # also write a small table with molecule all_counts\n",
    "    summarydir = config['summary_dir']\n",
    "    acfilename = summarydir + 'all_counts.csv'\n",
    "    utils.write_csv(acfilename, allcounts, header=header)\n",
    "    if talkative:\n",
    "        print('all-counts summary saved to: ' + acfilename)\n",
    "    return allcounts, header\n",
    "\n",
    "def merge_summary_files(config, list_num_iter, talkative=True):\n",
    "    merged_list = []\n",
    "    cnt = 0\n",
    "    for list_num in list_num_iter:\n",
    "        odc = OdorDataCollector(list_num=list_num, **config)\n",
    "        merged_list_sub, header, cnt = odc.roll_summary(cnt)\n",
    "        merged_list.extend(merged_list_sub)\n",
    "\n",
    "    # save to a separate file\n",
    "    summarydir = config['summary_dir']\n",
    "    mrgfilename = summarydir + config.get('file_prefix', '') + 'out_merged.csv'\n",
    "    utils.write_csv(mrgfilename, merged_list, header=header)\n",
    "    if talkative:\n",
    "        print('file saved to: ' + mrgfilename)"
   ]
  },
  {
   "cell_type": "code",
   "execution_count": 9,
   "metadata": {},
   "outputs": [
    {
     "name": "stdout",
     "output_type": "stream",
     "text": [
      "file already exists: _test/gsc_list1_full.csv\n",
      "file saved to: _test/summary/gsc_out_list1.csv\n",
      "file already exists: _test/gsc_list2_full.csv\n",
      "file saved to: _test/summary/gsc_out_list2.csv\n",
      "file already exists: _test/gsc_list3_full.csv\n",
      "file saved to: _test/summary/gsc_out_list3.csv\n",
      "file already exists: _test/gsc_list4_full.csv\n",
      "file saved to: _test/summary/gsc_out_list4.csv\n",
      "file already exists: _test/gsc_list5_full.csv\n",
      "file saved to: _test/summary/gsc_out_list5.csv\n",
      "file already exists: _test/gsc_list6_full.csv\n",
      "file saved to: _test/summary/gsc_out_list6.csv\n",
      "file already exists: _test/gsc_list7_full.csv\n",
      "file saved to: _test/summary/gsc_out_list7.csv\n",
      "file already exists: _test/gsc_list8_full.csv\n",
      "file saved to: _test/summary/gsc_out_list8.csv\n",
      "file already exists: _test/gsc_list9_full.csv\n",
      "file saved to: _test/summary/gsc_out_list9.csv\n",
      "file already exists: _test/gsc_list10_full.csv\n",
      "file saved to: _test/summary/gsc_out_list10.csv\n",
      "file already exists: _test/gsc_list11_full.csv\n",
      "file saved to: _test/summary/gsc_out_list11.csv\n",
      "file already exists: _test/gsc_list12_full.csv\n",
      "file saved to: _test/summary/gsc_out_list12.csv\n",
      "all-counts summary saved to: _test/summary/all_counts.csv\n"
     ]
    }
   ],
   "source": [
    "# add summary_dir to config\n",
    "config['summary_dir'] = '_test/summary/'\n",
    "\n",
    "# generate a summary file for each list\n",
    "allcounts, header = generate_dataset_summary_files(config, list_num_iter)"
   ]
  },
  {
   "cell_type": "code",
   "execution_count": 10,
   "metadata": {},
   "outputs": [
    {
     "name": "stdout",
     "output_type": "stream",
     "text": [
      "file saved to: _test/summary/gsc_out_merged.csv\n"
     ]
    }
   ],
   "source": [
    "# finally, generate an all-odor summary for this database\n",
    "merge_summary_files(config, list_num_iter)"
   ]
  },
  {
   "cell_type": "code",
   "execution_count": null,
   "metadata": {},
   "outputs": [],
   "source": []
  }
 ],
 "metadata": {
  "kernelspec": {
   "display_name": "Python 3",
   "language": "python",
   "name": "python3"
  },
  "language_info": {
   "codemirror_mode": {
    "name": "ipython",
    "version": 3
   },
   "file_extension": ".py",
   "mimetype": "text/x-python",
   "name": "python",
   "nbconvert_exporter": "python",
   "pygments_lexer": "ipython3",
   "version": "3.7.4"
  }
 },
 "nbformat": 4,
 "nbformat_minor": 2
}
